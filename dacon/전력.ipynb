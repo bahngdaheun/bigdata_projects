{
  "nbformat": 4,
  "nbformat_minor": 0,
  "metadata": {
    "colab": {
      "provenance": []
    },
    "kernelspec": {
      "name": "python3",
      "display_name": "Python 3"
    },
    "language_info": {
      "name": "python"
    }
  },
  "cells": [
    {
      "cell_type": "code",
      "execution_count": null,
      "metadata": {
        "id": "24LVl3x8tjsm"
      },
      "outputs": [],
      "source": [
        "import sys\n",
        "import sklearn as skl\n",
        "import pandas as pd\n",
        "import numpy as np\n",
        "from tqdm import tqdm\n",
        "import random\n",
        "import os"
      ]
    },
    {
      "cell_type": "code",
      "source": [
        "def seed_everything(seed):\n",
        "    random.seed(seed)\n",
        "    os.environ['PYTHONHASHSEED'] = str(seed)\n",
        "    np.random.seed(seed)\n",
        "\n",
        "seed_everything(42) # Seed 고정"
      ],
      "metadata": {
        "id": "ldKciyfyuROP"
      },
      "execution_count": null,
      "outputs": []
    },
    {
      "cell_type": "code",
      "source": [
        "train = pd.read_csv('./train.csv')\n",
        "test = pd.read_csv('./test.csv')"
      ],
      "metadata": {
        "id": "UwYJd6-Eu101"
      },
      "execution_count": null,
      "outputs": []
    },
    {
      "cell_type": "markdown",
      "source": [
        "### **1. 데이터 전처리**\n",
        "   (1) 파생변수 추가\n",
        "   - 참고 자료\n",
        "\n",
        "\n",
        "https://dacon.io/competitions/official/235736/codeshare/2877?page=1&dtype=recent\n",
        "\n",
        "https://dacon.io/codeshare/2882?dtype=recent"
      ],
      "metadata": {
        "id": "hnVYLSqU1jJd"
      }
    },
    {
      "cell_type": "code",
      "source": [
        "## 변수들을 영문명으로 변경\n",
        "cols = ['num_date_time', 'num', 'date_time', 'temp', 'prec', 'wind', 'hum', 'sun', 'mj', 'power']\n",
        "train.columns = cols\n",
        "\n",
        "# 시간 관련 변수들 생성\n",
        "date = pd.to_datetime(train.date_time)\n",
        "train['hour'] = date.dt.hour\n",
        "train['day'] = date.dt.weekday\n",
        "train['month'] = date.dt.month\n",
        "train['week'] = date.dt.weekofyear\n",
        "\n",
        "#######################################\n",
        "## 건물별, 요일별, 시간별 발전량 평균 넣어주기\n",
        "#######################################\n",
        "power_mean = pd.pivot_table(train, values = 'power', index = ['num', 'hour', 'day'], aggfunc = np.mean).reset_index()\n",
        "tqdm.pandas()\n",
        "train['day_hour_mean'] = train.progress_apply(lambda x : power_mean.loc[(power_mean.num == x['num']) & (power_mean.hour == x['hour']) & (power_mean.day == x['day']) ,'power'].values[0], axis = 1)\n",
        "\n",
        "#######################################\n",
        "## 건물별 시간별 발전량 평균 넣어주기\n",
        "#######################################\n",
        "power_hour_mean = pd.pivot_table(train, values = 'power', index = ['num', 'hour'], aggfunc = np.mean).reset_index()\n",
        "tqdm.pandas()\n",
        "train['hour_mean'] = train.progress_apply(lambda x : power_hour_mean.loc[(power_hour_mean.num == x['num']) & (power_hour_mean.hour == x['hour']) ,'power'].values[0], axis = 1)\n",
        "\n",
        "#######################################\n",
        "## 건물별 시간별 발전량 표준편차 넣어주기\n",
        "#######################################\n",
        "power_hour_std = pd.pivot_table(train, values = 'power', index = ['num', 'hour'], aggfunc = np.std).reset_index()\n",
        "tqdm.pandas()\n",
        "train['hour_std'] = train.progress_apply(lambda x : power_hour_std.loc[(power_hour_std.num == x['num']) & (power_hour_std.hour == x['hour']) ,'power'].values[0], axis = 1)\n",
        "\n",
        "### 공휴일 변수 추가\n",
        "train['holiday'] = train.apply(lambda x : 0 if x['day']<5 else 1, axis = 1)\n",
        "train.loc[('20220601'<=train.date_time)&(train.date_time<'20220602'), 'holiday'] = 1\n",
        "\n",
        "## https://dacon.io/competitions/official/235680/codeshare/2366?page=1&dtype=recent\n",
        "train['sin_time'] = np.sin(2*np.pi*train.hour/24)\n",
        "train['cos_time'] = np.cos(2*np.pi*train.hour/24)\n",
        "\n",
        "## https://dacon.io/competitions/official/235736/codeshare/2743?page=1&dtype=recent\n",
        "train['THI'] = 9/5*train['temp'] - 0.55*(1-train['hum']/100)*(9/5*train['hum']-26)+32\n",
        "\n",
        "def CDH(xs):\n",
        "    ys = []\n",
        "    for i in range(len(xs)):\n",
        "        if i < 11:\n",
        "            ys.append(np.sum(xs[:(i+1)]-26))\n",
        "        else:\n",
        "            ys.append(np.sum(xs[(i-11):(i+1)]-26))\n",
        "    return np.array(ys)"
      ],
      "metadata": {
        "id": "M3UwVhHUuR7u"
      },
      "execution_count": null,
      "outputs": []
    },
    {
      "cell_type": "code",
      "source": [
        "cdhs = np.array([])\n",
        "for num in range(1,101):\n",
        "    temp = train[train['num'] == num]\n",
        "    cdh = CDH(temp['temp'].values)\n",
        "    cdhs = np.concatenate([cdhs, cdh])\n",
        "train['CDH'] = cdhs"
      ],
      "metadata": {
        "id": "b7gXY7yEubnm"
      },
      "execution_count": null,
      "outputs": []
    },
    {
      "cell_type": "code",
      "source": [
        "cols = ['num_date_time', 'num', 'date_time', 'temp', 'prec', 'wind', 'hum', 'sun', 'mj', 'power']\n",
        "train.columns = cols\n",
        "\n",
        "# 시간 관련 변수들 생성\n",
        "date = pd.to_datetime(train.date_time)\n",
        "train['hour'] = date.dt.hour\n",
        "train['day'] = date.dt.weekday\n",
        "train['month'] = date.dt.month\n",
        "train['week'] = date.dt.weekofyear\n",
        "\n",
        "train.drop(['sun', 'mj', 'num_date_time', 'date_time', 'hour'], axis = 1, inplace = True)"
      ],
      "metadata": {
        "id": "8SPHwsqruc--"
      },
      "execution_count": null,
      "outputs": []
    },
    {
      "cell_type": "markdown",
      "source": [
        "(2) 결측치 처리"
      ],
      "metadata": {
        "id": "MB00obW3zl6s"
      }
    },
    {
      "cell_type": "code",
      "source": [
        "train_y = train['power']\n",
        "\n",
        "# 강수량 결측치 0.0으로 채우기\n",
        "train['prec'].fillna(0.0, inplace=True)\n",
        "\n",
        "# 풍속, 습도 결측치 평균으로 채우고 반올림하기\n",
        "train['wind'].fillna(round(train['wind'].mean(),2), inplace=True)\n",
        "train['hum'].fillna(round(train['hum'].mean(),2), inplace=True)"
      ],
      "metadata": {
        "id": "3nnqwsNvuffu"
      },
      "execution_count": null,
      "outputs": []
    },
    {
      "cell_type": "code",
      "source": [
        "# train set과 동일한 전처리 과정\n",
        "cols = ['num_date_time', 'num', 'date_time', 'temp', 'prec', 'wind','hum']\n",
        "test.columns = cols\n",
        "date = pd.to_datetime(test.date_time)\n",
        "test['hour'] = date.dt.hour\n",
        "test['day'] = date.dt.weekday\n",
        "test['month'] = date.dt.month\n",
        "test['week'] = date.dt.weekofyear\n",
        "test['sin_time'] = np.sin(2*np.pi*test.hour/24)\n",
        "test['cos_time'] = np.cos(2*np.pi*test.hour/24)\n",
        "test['holiday'] = test.apply(lambda x : 0 if x['day']<5 else 1, axis = 1)\n",
        "\n",
        "## 건물별 일별 시간별 발전량 평균\n",
        "tqdm.pandas()\n",
        "test['day_hour_mean'] = test.progress_apply(lambda x : power_mean.loc[(power_mean.num == x['num']) & (power_mean.day == x['day']) & (power_mean.hour == x['hour']) ,'power'].values[0], axis = 1)\n",
        "\n",
        "## 건물별 시간별 발전량 평균 넣어주기\n",
        "tqdm.pandas()\n",
        "test['hour_mean'] = test.progress_apply(lambda x : power_hour_mean.loc[(power_hour_mean.num == x['num']) & (power_hour_mean.hour == x['hour']) ,'power'].values[0], axis = 1)\n",
        "\n",
        "tqdm.pandas()\n",
        "test['hour_std'] = test.progress_apply(lambda x : power_hour_std.loc[(power_hour_std.num == x['num']) & (power_hour_std.hour == x['hour']) ,'power'].values[0], axis = 1)\n",
        "\n",
        "test.drop(['hour','date_time', 'num_date_time'], axis = 1, inplace = True)\n",
        "\n",
        "# pandas 내 선형보간 method 사용\n",
        "for i in range(100):\n",
        "    test.iloc[i*168:(i+1)*168, :]  = test.iloc[i*168:(i+1)*168, :].interpolate()\n",
        "\n",
        "\n",
        "test['THI'] = 9/5*test['temp'] - 0.55*(1-test['hum']/100)*(9/5*test['hum']-26)+32\n",
        "\n",
        "cdhs = np.array([])\n",
        "for num in range(1,101):\n",
        "    temp = test[test['num'] == num]\n",
        "    cdh = CDH(temp['temp'].values)\n",
        "    cdhs = np.concatenate([cdhs, cdh])\n",
        "test['CDH'] = cdhs\n",
        "\n",
        "test = test[['num','temp', 'prec', 'wind', 'hum', 'day', 'month', 'week',\n",
        "       'day_hour_mean', 'hour_mean', 'hour_std', 'holiday', 'sin_time',\n",
        "       'cos_time', 'THI', 'CDH']]"
      ],
      "metadata": {
        "id": "gUZl4tXIu9_Q"
      },
      "execution_count": null,
      "outputs": []
    },
    {
      "cell_type": "code",
      "source": [
        "cols = ['num_date_time', 'num', 'date_time', 'temp', 'prec', 'wind','hum']\n",
        "test.columns = cols\n",
        "date = pd.to_datetime(test.date_time)\n",
        "test['hour'] = date.dt.hour\n",
        "test['day'] = date.dt.weekday\n",
        "test['month'] = date.dt.month\n",
        "test['week'] = date.dt.weekofyear\n",
        "test.drop(['num_date_time'], axis = 1, inplace = True)"
      ],
      "metadata": {
        "id": "OqAO2YjivBBo"
      },
      "execution_count": null,
      "outputs": []
    },
    {
      "cell_type": "code",
      "source": [
        "train_x = train.drop(columns=['power'])\n",
        "\n",
        "train_x['wc_temp'] = 13.12 + 0.6215 * train_x['temp'] - 11.37 * (train_x['wind'] ** 0.16) + 0.3965 * train_x['temp'] * (train_x['wind'] ** 0.16)\n",
        "train_x['heat_index'] = (-8.784695 + 1.61139411 * train_x['temp'] + 2.338549 * train_x['hum'] - 0.14611605 * train_x['temp'] * train_x['hum']\n",
        "- 0.012308094 * (train_x['temp'] ** 2) - 0.016424828 * (train_x['hum'] ** 2) + 0.002211732 * (train_x['temp'] ** 2) * train_x['hum']\n",
        "+ 0.00072546 * train_x['temp'] * (train_x['hum'] ** 2) - 0.000003582 * (train_x['temp'] ** 2) * (train_x['hum'] ** 2))\n",
        "\n",
        "test['wc_temp'] = 13.12 + 0.6215 * test['temp'] - 11.37 * (test['wind'] ** 0.16) + 0.3965 * test['temp'] * (test['wind'] ** 0.16)\n",
        "test['heat_index'] = (-8.784695 + 1.61139411 * test['temp'] + 2.338549 * test['hum'] - 0.14611605 * test['temp'] * test['hum']\n",
        "- 0.012308094 * (test['temp'] ** 2) - 0.016424828 * (test['hum'] ** 2) + 0.002211732 * (test['temp'] ** 2) * test['hum']\n",
        "+ 0.00072546 * test['temp'] * (test['hum'] ** 2) - 0.000003582 * (test['temp'] ** 2) * (test['hum'] ** 2))"
      ],
      "metadata": {
        "id": "xSXzTqXIxPDX"
      },
      "execution_count": null,
      "outputs": []
    },
    {
      "cell_type": "markdown",
      "source": [
        "   (3) 건물 정보와 병합"
      ],
      "metadata": {
        "id": "bbifaEnP2Afx"
      }
    },
    {
      "cell_type": "code",
      "source": [
        "build = pd.read_csv('/content/building_info.csv')\n",
        "build['태양광용량(kW)'] = build['태양광용량(kW)'].replace('-', 0)\n",
        "build['ESS저장용량(kWh)'] = build['ESS저장용량(kWh)'].replace('-', 0)\n",
        "build['PCS용량(kW)'] = build['PCS용량(kW)'].replace('-', 0)"
      ],
      "metadata": {
        "id": "JxEmN5cSxwLP"
      },
      "execution_count": null,
      "outputs": []
    },
    {
      "cell_type": "code",
      "source": [
        "from sklearn.preprocessing import LabelEncoder\n",
        "\n",
        "le = LabelEncoder()\n",
        "build['build_type'] = le.fit_transform(build['건물유형'])"
      ],
      "metadata": {
        "id": "aEVOqmAfx5UT"
      },
      "execution_count": null,
      "outputs": []
    },
    {
      "cell_type": "code",
      "source": [
        "build.columns = ['건물번호', 'build_type', 'space', 'cold_space', 'sun', 'ess', 'pcs']\n",
        "build['sun'] = build['sun'].astype(float)\n",
        "build['ess'] = build['ess'].astype(float)\n",
        "build['pcs'] = build['pcs'].astype(int)"
      ],
      "metadata": {
        "id": "j_IHEU08y-su"
      },
      "execution_count": null,
      "outputs": []
    },
    {
      "cell_type": "code",
      "source": [
        "merged_df = pd.merge(train_x, build, left_on='num', right_on='건물번호', how='inner')\n",
        "merged_df.drop('건물번호', axis = 1, inplace = True)\n",
        "\n",
        "merged_test = pd.merge(test, build, left_on='num', right_on='건물번호', how='inner')"
      ],
      "metadata": {
        "id": "sOOEWWvDyB6T"
      },
      "execution_count": null,
      "outputs": []
    },
    {
      "cell_type": "markdown",
      "source": [
        "   (4) 스케일링"
      ],
      "metadata": {
        "id": "ZO4XwxVt2KDI"
      }
    },
    {
      "cell_type": "code",
      "source": [
        "from sklearn.preprocessing import MaxAbsScaler\n",
        "\n",
        "scaler = MaxAbsScaler()\n",
        "scaler.fit(train_x)\n",
        "transformed_train_X = scaler.transform(train_x)\n",
        "transformed_test_X = scaler.transform(test)\n",
        "\n",
        "train = pd.DataFrame(data = transformed_train_X, columns = train_x.columns)\n",
        "train['power'] = train_y\n",
        "\n",
        "test = pd.DataFrame(data = transformed_test_X, columns = test.columns)"
      ],
      "metadata": {
        "id": "8US6hM96vG-v"
      },
      "execution_count": null,
      "outputs": []
    },
    {
      "cell_type": "markdown",
      "source": [
        "### 2. **학습**\n",
        "(1) optuna 활용하여 하이퍼파라미터 적용: 모든 전처리 적용"
      ],
      "metadata": {
        "id": "qwk7HFhX3kQE"
      }
    },
    {
      "cell_type": "code",
      "source": [
        "!pip install optuna"
      ],
      "metadata": {
        "id": "vxg0lGIZ2Y40"
      },
      "execution_count": null,
      "outputs": []
    },
    {
      "cell_type": "markdown",
      "source": [
        "- 평가 지표 함수 정의"
      ],
      "metadata": {
        "id": "OlVRPFm53vr8"
      }
    },
    {
      "cell_type": "code",
      "source": [
        "def smape(true, pred):\n",
        "    v = 2 * abs(pred - true) / (abs(pred) + abs(true))\n",
        "    output = np.mean(v) * 100\n",
        "    return output"
      ],
      "metadata": {
        "id": "ltrZlYSL1pcN"
      },
      "execution_count": null,
      "outputs": []
    },
    {
      "cell_type": "code",
      "source": [
        "train = pd.read_csv('/content/drive/MyDrive/Colab Notebooks/train_merge_scale.csv')\n",
        "train_y = train['power']\n",
        "train.drop(['power'], axis = 1, inplace = True)"
      ],
      "metadata": {
        "id": "Fzf8UJ7M2Yhs"
      },
      "execution_count": null,
      "outputs": []
    },
    {
      "cell_type": "markdown",
      "source": [
        "- 예측에 사용할 모델 선정하기 위해 pycaret 사용"
      ],
      "metadata": {
        "id": "74TLx4F-DFWk"
      }
    },
    {
      "cell_type": "code",
      "source": [
        "!pip install pycaret"
      ],
      "metadata": {
        "id": "tayGJzJoDKO7"
      },
      "execution_count": null,
      "outputs": []
    },
    {
      "cell_type": "code",
      "source": [
        "from pycaret import regression\n",
        "regression.setup(data=train, target=train_y)"
      ],
      "metadata": {
        "id": "CK6tuUabDP1L"
      },
      "execution_count": null,
      "outputs": []
    },
    {
      "cell_type": "code",
      "source": [
        "best = regression.compare_models(n_select=1, verbose=False, turbo=True, fold = 10)\n",
        "best.fit(train, train_y)"
      ],
      "metadata": {
        "id": "BtR1-SmcDfs8"
      },
      "execution_count": null,
      "outputs": []
    },
    {
      "cell_type": "code",
      "source": [
        "from sklearn.ensemble import ExtraTreesRegressor\n",
        "from sklearn.model_selection import train_test_split"
      ],
      "metadata": {
        "id": "mxq9fD_vAnek"
      },
      "execution_count": null,
      "outputs": []
    },
    {
      "cell_type": "code",
      "source": [
        "def objective(trial):\n",
        "    n_estimators = trial.suggest_int('n_estimators', 100, 400, 10)\n",
        "    max_depth = trial.suggest_int('max_depth', 25, 30, 1)\n",
        "    # min_samples_split = trial.suggest_int('min_samples_split', 2, 6, 1)\n",
        "    # bootstrap = trial.suggest_categorical('bootstrap', [True, False])\n",
        "\n",
        "    model = ExtraTreesRegressor(\n",
        "        n_estimators=n_estimators,\n",
        "        min_samples_split=2,\n",
        "        max_depth=max_depth,\n",
        "        bootstrap=False\n",
        "    )\n",
        "\n",
        "    model.fit(X_train, y_train)\n",
        "    preds = model.predict(X_valid)\n",
        "    score = smape(y_valid, preds)\n",
        "    return score\n",
        "\n",
        "X_train, X_valid, y_train, y_valid = train_test_split(train, train_y, test_size = 0.2)\n",
        "\n",
        "study = optuna.create_study(direction='minimize')\n",
        "study.optimize(objective, n_trials=300)"
      ],
      "metadata": {
        "id": "s11LC5GSArAL"
      },
      "execution_count": null,
      "outputs": []
    },
    {
      "cell_type": "code",
      "source": [
        "print('Best trial:', study.best_trial.params)\n",
        "print('Best score:', study.best_value)"
      ],
      "metadata": {
        "id": "8LW6pLv6AtMr"
      },
      "execution_count": null,
      "outputs": []
    },
    {
      "cell_type": "code",
      "source": [
        "params ={'n_estimators': 390, 'max_depth': 29, 'min_samples_split': 2, 'bootstrap': False}\n",
        "model = ExtraTreesRegressor(**params)\n",
        "model.fit(train, train_y)"
      ],
      "metadata": {
        "id": "lKrj8raUB6Kb"
      },
      "execution_count": null,
      "outputs": []
    },
    {
      "cell_type": "code",
      "source": [
        "test = pd.read_csv('/content/drive/MyDrive/Colab Notebooks/test_merge_scale.csv')\n",
        "\n",
        "# 테스트 데이터에 대한 예측\n",
        "preds = model.predict(test)\n",
        "\n",
        "submission = pd.read_csv('/content/drive/MyDrive/Colab Notebooks/submission.csv')\n",
        "submission['answer'] = preds"
      ],
      "metadata": {
        "id": "bOIdKvPLB9IK"
      },
      "execution_count": null,
      "outputs": []
    },
    {
      "cell_type": "markdown",
      "source": [
        "(2) autogluon: 전처리 중에서 건물 정보 병합만 안 한 데이터 사용"
      ],
      "metadata": {
        "id": "7ZTOjR2R3158"
      }
    },
    {
      "cell_type": "code",
      "source": [
        "!pip install autogluon"
      ],
      "metadata": {
        "id": "PUh1STOj18F0"
      },
      "execution_count": null,
      "outputs": []
    },
    {
      "cell_type": "code",
      "source": [
        "from autogluon.tabular import TabularDataset, TabularPredictor"
      ],
      "metadata": {
        "id": "lOpqXZoN2F9j"
      },
      "execution_count": null,
      "outputs": []
    },
    {
      "cell_type": "code",
      "source": [
        "train_data = TabularDataset('/content/drive/MyDrive/Colab Notebooks/train_final_e.csv')\n",
        "test_data = TabularDataset('/content/drive/MyDrive/Colab Notebooks/test_final_e.csv')"
      ],
      "metadata": {
        "id": "CDMahBJZ3DOk"
      },
      "execution_count": null,
      "outputs": []
    },
    {
      "cell_type": "code",
      "source": [
        "label = 'power'\n",
        "eval_metric = 'mape'\n",
        "time_limit = 3600 * 5\n",
        "\n",
        "predictor = TabularPredictor(\n",
        "    label=label, eval_metric=eval_metric\n",
        ").fit(train_data, presets='best_quality', time_limit=time_limit, num_gpus=1)\n",
        "\n",
        "predictor.leaderboard(silent = True)"
      ],
      "metadata": {
        "id": "R4TOm1Su26c8"
      },
      "execution_count": null,
      "outputs": []
    },
    {
      "cell_type": "code",
      "source": [
        "model_to_use = predictor.get_model_best()\n",
        "model_pred = predictor.predict(test_data, model=model_to_use)\n",
        "submission = pd.read_csv('/content/drive/MyDrive/Colab Notebooks/submission.csv')\n",
        "submission['answer'] = model_pred"
      ],
      "metadata": {
        "id": "6Rddcoeo29D0"
      },
      "execution_count": null,
      "outputs": []
    },
    {
      "cell_type": "markdown",
      "source": [
        "### 3. **앙상블**\n",
        "- 여러 가지를 앙상블했지만 이렇게 했을 때 성적이 제일 높았습니다."
      ],
      "metadata": {
        "id": "F6NOEDTZ36dk"
      }
    },
    {
      "cell_type": "code",
      "source": [
        "opt = pd.read_csv('/content/병합 스케일 + optuna.csv')\n",
        "aug = pd.read_csv('/content/스케일링 + autogluon_5.csv')\n",
        "sub = pd.read_csv('/content/drive/MyDrive/Colab Notebooks/submission.csv')\n",
        "sub['answer'] = (opt['answer'] + aug['answer']) / 2"
      ],
      "metadata": {
        "id": "J3n034GPCF6L"
      },
      "execution_count": null,
      "outputs": []
    }
  ]
}